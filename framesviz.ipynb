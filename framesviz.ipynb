{
 "cells": [
  {
   "cell_type": "code",
   "execution_count": 1,
   "metadata": {},
   "outputs": [],
   "source": [
    "# Cellule d'import \n",
    "import os \n",
    "import numpy as np \n",
    "import cv2\n",
    "import matplotlib.pyplot as plt "
   ]
  },
  {
   "cell_type": "code",
   "execution_count": 2,
   "metadata": {},
   "outputs": [],
   "source": [
    "videoNames = [\"out_sense_4634_4700\", \"out_sense_gg4541_4629\"]\n",
    "nvid = len(videoNames)\n",
    "framesNb = [\n",
    "    [1, 2, 14, 58, 59], \n",
    "    [1, 2, 15, 52, 86]\n",
    "]\n",
    "folders = [\n",
    "    \"1bgpoint\", \n",
    "    \"1lhpoint\", \n",
    "    \"2bg2lhpoint\", \n",
    "    \"2bgpoint\", \n",
    "    \"2lhpoint\", \n",
    "    \"4bg2lhpoint\"\n",
    "]\n",
    "parentFolder = \"D:\\\\Master Thesis\\\\temp\\\\temp20221209\""
   ]
  },
  {
   "cell_type": "code",
   "execution_count": 3,
   "metadata": {},
   "outputs": [],
   "source": [
    "videoFrames = [[[os.path.join(parentFolder, folder, videoNames[i], f'{videoNames[i]}_{frameNb}.png') for frameNb in framesNb[i]] for folder in folders] for i in range(nvid)]"
   ]
  },
  {
   "cell_type": "code",
   "execution_count": 4,
   "metadata": {},
   "outputs": [
    {
     "ename": "FileNotFoundError",
     "evalue": "[Errno 2] No such file or directory: 'D:\\\\Master Thesis\\\\temp\\\\temp20221209\\\\1bgpoint\\\\out_sense_4634_4700\\\\out_sense_4634_4700_1.png'",
     "output_type": "error",
     "traceback": [
      "\u001b[1;31m---------------------------------------------------------------------------\u001b[0m",
      "\u001b[1;31mFileNotFoundError\u001b[0m                         Traceback (most recent call last)",
      "Cell \u001b[1;32mIn[4], line 6\u001b[0m\n\u001b[0;32m      4\u001b[0m folderfiles \u001b[39m=\u001b[39m []\n\u001b[0;32m      5\u001b[0m \u001b[39mfor\u001b[39;00m frame \u001b[39min\u001b[39;00m folder: \n\u001b[1;32m----> 6\u001b[0m     folderfiles\u001b[39m.\u001b[39mappend(plt\u001b[39m.\u001b[39;49mimread(frame))\n\u001b[0;32m      7\u001b[0m toDisplay[i]\u001b[39m.\u001b[39mappend(folderfiles)\n",
      "File \u001b[1;32mc:\\Users\\hvrl\\anaconda3\\lib\\site-packages\\matplotlib\\pyplot.py:2195\u001b[0m, in \u001b[0;36mimread\u001b[1;34m(fname, format)\u001b[0m\n\u001b[0;32m   2193\u001b[0m \u001b[39m@_copy_docstring_and_deprecators\u001b[39m(matplotlib\u001b[39m.\u001b[39mimage\u001b[39m.\u001b[39mimread)\n\u001b[0;32m   2194\u001b[0m \u001b[39mdef\u001b[39;00m \u001b[39mimread\u001b[39m(fname, \u001b[39mformat\u001b[39m\u001b[39m=\u001b[39m\u001b[39mNone\u001b[39;00m):\n\u001b[1;32m-> 2195\u001b[0m     \u001b[39mreturn\u001b[39;00m matplotlib\u001b[39m.\u001b[39;49mimage\u001b[39m.\u001b[39;49mimread(fname, \u001b[39mformat\u001b[39;49m)\n",
      "File \u001b[1;32mc:\\Users\\hvrl\\anaconda3\\lib\\site-packages\\matplotlib\\image.py:1563\u001b[0m, in \u001b[0;36mimread\u001b[1;34m(fname, format)\u001b[0m\n\u001b[0;32m   1556\u001b[0m \u001b[39mif\u001b[39;00m \u001b[39misinstance\u001b[39m(fname, \u001b[39mstr\u001b[39m) \u001b[39mand\u001b[39;00m \u001b[39mlen\u001b[39m(parse\u001b[39m.\u001b[39murlparse(fname)\u001b[39m.\u001b[39mscheme) \u001b[39m>\u001b[39m \u001b[39m1\u001b[39m:\n\u001b[0;32m   1557\u001b[0m     \u001b[39m# Pillow doesn't handle URLs directly.\u001b[39;00m\n\u001b[0;32m   1558\u001b[0m     \u001b[39mraise\u001b[39;00m \u001b[39mValueError\u001b[39;00m(\n\u001b[0;32m   1559\u001b[0m         \u001b[39m\"\u001b[39m\u001b[39mPlease open the URL for reading and pass the \u001b[39m\u001b[39m\"\u001b[39m\n\u001b[0;32m   1560\u001b[0m         \u001b[39m\"\u001b[39m\u001b[39mresult to Pillow, e.g. with \u001b[39m\u001b[39m\"\u001b[39m\n\u001b[0;32m   1561\u001b[0m         \u001b[39m\"\u001b[39m\u001b[39m``np.array(PIL.Image.open(urllib.request.urlopen(url)))``.\u001b[39m\u001b[39m\"\u001b[39m\n\u001b[0;32m   1562\u001b[0m         )\n\u001b[1;32m-> 1563\u001b[0m \u001b[39mwith\u001b[39;00m img_open(fname) \u001b[39mas\u001b[39;00m image:\n\u001b[0;32m   1564\u001b[0m     \u001b[39mreturn\u001b[39;00m (_pil_png_to_float_array(image)\n\u001b[0;32m   1565\u001b[0m             \u001b[39mif\u001b[39;00m \u001b[39misinstance\u001b[39m(image, PIL\u001b[39m.\u001b[39mPngImagePlugin\u001b[39m.\u001b[39mPngImageFile) \u001b[39melse\u001b[39;00m\n\u001b[0;32m   1566\u001b[0m             pil_to_array(image))\n",
      "File \u001b[1;32mc:\\Users\\hvrl\\anaconda3\\lib\\site-packages\\PIL\\ImageFile.py:105\u001b[0m, in \u001b[0;36mImageFile.__init__\u001b[1;34m(self, fp, filename)\u001b[0m\n\u001b[0;32m    101\u001b[0m \u001b[39mself\u001b[39m\u001b[39m.\u001b[39mdecodermaxblock \u001b[39m=\u001b[39m MAXBLOCK\n\u001b[0;32m    103\u001b[0m \u001b[39mif\u001b[39;00m is_path(fp):\n\u001b[0;32m    104\u001b[0m     \u001b[39m# filename\u001b[39;00m\n\u001b[1;32m--> 105\u001b[0m     \u001b[39mself\u001b[39m\u001b[39m.\u001b[39mfp \u001b[39m=\u001b[39m \u001b[39mopen\u001b[39;49m(fp, \u001b[39m\"\u001b[39;49m\u001b[39mrb\u001b[39;49m\u001b[39m\"\u001b[39;49m)\n\u001b[0;32m    106\u001b[0m     \u001b[39mself\u001b[39m\u001b[39m.\u001b[39mfilename \u001b[39m=\u001b[39m fp\n\u001b[0;32m    107\u001b[0m     \u001b[39mself\u001b[39m\u001b[39m.\u001b[39m_exclusive_fp \u001b[39m=\u001b[39m \u001b[39mTrue\u001b[39;00m\n",
      "\u001b[1;31mFileNotFoundError\u001b[0m: [Errno 2] No such file or directory: 'D:\\\\Master Thesis\\\\temp\\\\temp20221209\\\\1bgpoint\\\\out_sense_4634_4700\\\\out_sense_4634_4700_1.png'"
     ]
    }
   ],
   "source": [
    "toDisplay = [ [] for i in range(nvid) ]\n",
    "for i in range(nvid): \n",
    "    for j, folder in enumerate(videoFrames[i]): \n",
    "        folderfiles = []\n",
    "        for frame in folder: \n",
    "            folderfiles.append(plt.imread(frame))\n",
    "        toDisplay[i].append(folderfiles)"
   ]
  },
  {
   "cell_type": "code",
   "execution_count": null,
   "metadata": {},
   "outputs": [],
   "source": [
    "n = len(framesNb[0])\n",
    "nbFolder = len(folders)\n",
    "fig, axs = plt.subplots(nvid*nbFolder, n, figsize=(50,40), constrained_layout=True)\n",
    "fig.suptitle(t=\"Pseudo label result depending on the annotation\")\n",
    "\n",
    "for i in range(nvid):\n",
    "    for j, folder in enumerate(toDisplay[i]): \n",
    "        for k, frame in enumerate(folder): \n",
    "            axs[i*nbFolder+j, k].set_title(f'{folders[j]}_{framesNb[i][k]}')\n",
    "            axs[i*nbFolder+j, k].imshow(frame)\n",
    "            axs[i*nbFolder+j, k].axis('off')\n",
    "plt.show()"
   ]
  }
 ],
 "metadata": {
  "kernelspec": {
   "display_name": "base",
   "language": "python",
   "name": "python3"
  },
  "language_info": {
   "codemirror_mode": {
    "name": "ipython",
    "version": 3
   },
   "file_extension": ".py",
   "mimetype": "text/x-python",
   "name": "python",
   "nbconvert_exporter": "python",
   "pygments_lexer": "ipython3",
   "version": "3.10.9"
  },
  "orig_nbformat": 4,
  "vscode": {
   "interpreter": {
    "hash": "8fcabe26bb4e14dda783c81c4d89309b4d8e2b354d62982142340e5316cb7ca3"
   }
  }
 },
 "nbformat": 4,
 "nbformat_minor": 2
}
