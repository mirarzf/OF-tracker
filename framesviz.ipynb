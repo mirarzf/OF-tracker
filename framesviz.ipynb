{
 "cells": [
  {
   "cell_type": "code",
   "execution_count": 1,
   "metadata": {},
   "outputs": [],
   "source": [
    "# Cellule d'import \n",
    "import os \n",
    "import numpy as np \n",
    "import cv2\n",
    "import matplotlib.pyplot as plt "
   ]
  },
  {
   "cell_type": "code",
   "execution_count": 2,
   "metadata": {},
   "outputs": [],
   "source": [
    "videoNames = [\"out_sense_4634_4700\", \"out_sense_gg4541_4629\"]\n",
    "nvid = len(videoNames)\n",
    "framesNb = [\n",
    "    [1, 2, 14, 58, 59], \n",
    "    [1, 2, 15, 52, 86]\n",
    "]\n",
    "folders = [\n",
    "    \"1bgpoint\", \n",
    "    \"1lhpoint\", \n",
    "    \"2bg2lhpoint\", \n",
    "    \"2bgpoint\", \n",
    "    \"2lhpoint\", \n",
    "    \"4bg2lhpoint\"\n",
    "]\n",
    "parentFolder = \"D:\\\\Master Thesis\\\\temp\\\\temp20221209\""
   ]
  },
  {
   "cell_type": "code",
   "execution_count": 3,
   "metadata": {},
   "outputs": [],
   "source": [
    "videoFrames = [[[os.path.join(parentFolder, folder, videoNames[i], f'{videoNames[i]}_{frameNb}.png') for frameNb in framesNb[i]] for folder in folders] for i in range(nvid)]"
   ]
  },
  {
   "cell_type": "code",
   "execution_count": null,
   "metadata": {},
   "outputs": [],
   "source": [
    "toDisplay = [ [] for i in range(nvid) ]\n",
    "for i in range(nvid): \n",
    "    for j, folder in enumerate(videoFrames[i]): \n",
    "        folderfiles = []\n",
    "        for frame in folder: \n",
    "            folderfiles.append(plt.imread(frame))\n",
    "        toDisplay[i].append(folderfiles)"
   ]
  },
  {
   "cell_type": "code",
   "execution_count": null,
   "metadata": {},
   "outputs": [],
   "source": [
    "n = len(framesNb[0])\n",
    "nbFolder = len(folders)\n",
    "fig, axs = plt.subplots(nvid*nbFolder, n, figsize=(50,40), constrained_layout=True)\n",
    "fig.suptitle(t=\"Pseudo label result depending on the annotation\")\n",
    "\n",
    "for i in range(nvid):\n",
    "    for j, folder in enumerate(toDisplay[i]): \n",
    "        for k, frame in enumerate(folder): \n",
    "            axs[i*nbFolder+j, k].set_title(f'{folders[j]}_{framesNb[i][k]}')\n",
    "            axs[i*nbFolder+j, k].imshow(frame)\n",
    "            axs[i*nbFolder+j, k].axis('off')\n",
    "plt.show()"
   ]
  }
 ],
 "metadata": {
  "kernelspec": {
   "display_name": "base",
   "language": "python",
   "name": "python3"
  },
  "language_info": {
   "codemirror_mode": {
    "name": "ipython",
    "version": 3
   },
   "file_extension": ".py",
   "mimetype": "text/x-python",
   "name": "python",
   "nbconvert_exporter": "python",
   "pygments_lexer": "ipython3",
   "version": "3.10.9"
  },
  "orig_nbformat": 4,
  "vscode": {
   "interpreter": {
    "hash": "8fcabe26bb4e14dda783c81c4d89309b4d8e2b354d62982142340e5316cb7ca3"
   }
  }
 },
 "nbformat": 4,
 "nbformat_minor": 2
}
