{
 "cells": [
  {
   "cell_type": "code",
   "execution_count": 3,
   "metadata": {},
   "outputs": [],
   "source": [
    "from pathlib import Path \n",
    "\n",
    "import numpy as np \n",
    "import matplotlib.pyplot as plt \n",
    "\n",
    "### Folders \n",
    "offolder = 'c:/Users/hvrl/Documents/data/KU/of300'"
   ]
  },
  {
   "cell_type": "code",
   "execution_count": 4,
   "metadata": {},
   "outputs": [
    {
     "name": "stdout",
     "output_type": "stream",
     "text": [
      "0 92\n"
     ]
    }
   ],
   "source": [
    "of_folder = Path(offolder)\n",
    "# Get list of all optical frames path \n",
    "of_list = [f for f in of_folder.iterdir() if f.is_file() and '.npy' in str(f)]\n",
    "\n",
    "# List of values \n",
    "all_values = []\n",
    "\n",
    "for flowfile in of_list: \n",
    "    flow = np.load(flowfile)\n",
    "    norms = np.sqrt(flow[:,:,0]**2+flow[:,:,1]**2)\n",
    "    all_values += list(norms.flatten().astype(int))\n",
    "\n",
    "print(min(all_values), max(all_values))\n",
    "mini = min(all_values)\n",
    "maxi = max(all_values)\n",
    "\n"
   ]
  },
  {
   "cell_type": "code",
   "execution_count": 5,
   "metadata": {},
   "outputs": [
    {
     "name": "stdout",
     "output_type": "stream",
     "text": [
      "[160259506, 21505218, 9002932, 5662091, 3498035, 2240168, 1481835, 1044172, 836118, 643439, 458387, 406364, 334954, 276205, 264816, 230130, 220595, 199547, 188857, 184776, 153987, 107989, 111010, 95857, 102017, 69444, 52244, 40926, 29310, 21937, 16035, 12103, 8823, 5644, 4805, 5378, 5969, 4508, 3291, 3603, 4181, 5366, 7224, 9339, 6824, 8047, 3670, 2726, 1831, 1567, 1610, 1425, 1366, 1092, 1215, 1384, 1730, 1669, 1406, 1203, 1170, 1378, 1467, 1537, 1204, 1319, 1338, 1619, 1033, 957, 931, 706, 372, 209, 153, 106, 175, 177, 216, 280, 429, 941, 664, 344, 63, 12, 6, 4, 8, 8, 4, 4, 2]\n",
      "0\n"
     ]
    }
   ],
   "source": [
    "n = maxi - mini + 1 \n",
    "\n",
    "int_all_values = [int(value) for value in all_values]\n",
    "histo = [0 for i in range(n)]\n",
    "for intvalue in int_all_values:\n",
    "    histo[intvalue-n] += 1\n",
    "\n",
    "print(histo)\n",
    "\n",
    "print(np.argmax(np.array(histo)))\n",
    "\n",
    "# plt.figure()\n",
    "# plt.plot(list(range(mini, maxi+1)), histo)\n",
    "# plt.show()"
   ]
  }
 ],
 "metadata": {
  "kernelspec": {
   "display_name": "base",
   "language": "python",
   "name": "python3"
  },
  "language_info": {
   "codemirror_mode": {
    "name": "ipython",
    "version": 3
   },
   "file_extension": ".py",
   "mimetype": "text/x-python",
   "name": "python",
   "nbconvert_exporter": "python",
   "pygments_lexer": "ipython3",
   "version": "3.8.8"
  },
  "orig_nbformat": 4
 },
 "nbformat": 4,
 "nbformat_minor": 2
}
