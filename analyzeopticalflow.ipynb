{
 "cells": [
  {
   "cell_type": "code",
   "execution_count": 2,
   "metadata": {},
   "outputs": [],
   "source": [
    "from pathlib import Path \n",
    "\n",
    "import numpy as np \n",
    "import matplotlib\n",
    "import matplotlib.pyplot as plt \n",
    "\n",
    "### Folders \n",
    "offolder = 'c:/Users/hvrl/Documents/data/KU/of300/framestep0001'"
   ]
  },
  {
   "cell_type": "code",
   "execution_count": 3,
   "metadata": {},
   "outputs": [
    {
     "name": "stdout",
     "output_type": "stream",
     "text": [
      "0 92\n"
     ]
    }
   ],
   "source": [
    "of_folder = Path(offolder)\n",
    "# Get list of all optical frames path \n",
    "of_list = [f for f in of_folder.iterdir() if f.is_file() and '.npy' in str(f)]\n",
    "\n",
    "# List of values \n",
    "all_values = []\n",
    "\n",
    "for flowfile in of_list: \n",
    "    flow = np.load(flowfile)\n",
    "    norms = np.sqrt(flow[:,:,0]**2+flow[:,:,1]**2)\n",
    "    all_values += list(norms.flatten().astype(int))\n",
    "\n",
    "print(min(all_values), max(all_values))\n",
    "mini = min(all_values)\n",
    "maxi = max(all_values)\n"
   ]
  },
  {
   "cell_type": "code",
   "execution_count": 4,
   "metadata": {},
   "outputs": [
    {
     "name": "stdout",
     "output_type": "stream",
     "text": [
      "DEBUG PRINT: STOP 1\n"
     ]
    }
   ],
   "source": [
    "n = maxi - mini + 1 \n",
    "\n",
    "# int_all_values = [int(value) for value in all_values]\n",
    "# print(len(all_values), len(int_all_values))\n",
    "print(\"DEBUG PRINT: STOP 1\")"
   ]
  },
  {
   "cell_type": "code",
   "execution_count": 5,
   "metadata": {},
   "outputs": [
    {
     "name": "stdout",
     "output_type": "stream",
     "text": [
      "DEBUG PRINT: STOP 2\n"
     ]
    }
   ],
   "source": [
    "a = np.array(all_values)\n",
    "unique, counts = np.unique(a, return_counts=True)\n",
    "print(\"DEBUG PRINT: STOP 2\")"
   ]
  },
  {
   "cell_type": "code",
   "execution_count": 6,
   "metadata": {},
   "outputs": [
    {
     "name": "stdout",
     "output_type": "stream",
     "text": [
      "[ 0  1  2  3  4  5  6  7  8  9 10 11 12 13 14 15 16 17 18 19 20 21 22 23\n",
      " 24 25 26 27 28 29 30 31 32 33 34 35 36 37 38 39 40 41 42 43 44 45 46 47\n",
      " 48 49 50 51 52 53 54 55 56 57 58 59 60 61 62 63 64 65 66 67 68 69 70 71\n",
      " 72 73 74 75 76 77 78 79 80 81 82 83 84 85 86 87 88 89 90 91 92] [156071361  20936948   8774043   5518429   3396943   2177461   1439482\n",
      "   1015880    816177    629170    447597    397906    328037    269118\n",
      "    258879    225795    216594    194690    185275    179404    148817\n",
      "    104347    107804     92912     99754     67205     50751     39451\n",
      "     28459     21285     15565     11831      8335      5346      4603\n",
      "      5188      5840      4426      3268      3582      4132      5324\n",
      "      7098      9140      6678      7863      3442      2572      1743\n",
      "      1474      1547      1369      1276      1053      1193      1342\n",
      "      1710      1659      1402      1203      1170      1378      1467\n",
      "      1535      1204      1319      1336      1612      1030       957\n",
      "       931       706       372       209       153       106       175\n",
      "       177       216       280       429       941       664       344\n",
      "        63        12         6         4         8         8         4\n",
      "         4         2]\n",
      "0\n",
      "DEBUG PRINT: STOP 3\n"
     ]
    }
   ],
   "source": [
    "print(unique, counts)\n",
    " \n",
    "print(unique[np.argmax(np.array(counts))])\n",
    "print(\"DEBUG PRINT: STOP 3\")"
   ]
  },
  {
   "cell_type": "code",
   "execution_count": null,
   "metadata": {},
   "outputs": [],
   "source": [
    "plt.plot([0,1,2], [1,2,3])\n",
    "plt.show()"
   ]
  }
 ],
 "metadata": {
  "kernelspec": {
   "display_name": "base",
   "language": "python",
   "name": "python3"
  },
  "language_info": {
   "codemirror_mode": {
    "name": "ipython",
    "version": 3
   },
   "file_extension": ".py",
   "mimetype": "text/x-python",
   "name": "python",
   "nbconvert_exporter": "python",
   "pygments_lexer": "ipython3",
   "version": "3.8.8"
  },
  "orig_nbformat": 4
 },
 "nbformat": 4,
 "nbformat_minor": 2
}
